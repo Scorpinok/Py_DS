{
 "cells": [
  {
   "cell_type": "code",
   "execution_count": 18,
   "metadata": {},
   "outputs": [
    {
     "name": "stdout",
     "output_type": "stream",
     "text": [
      "Результат: [2.  8.4]\n"
     ]
    }
   ],
   "source": [
    "#Задание 1\n",
    "#Импортируйте библиотеку Numpy и дайте ей псевдоним np.\n",
    "#Создайте массив Numpy под названием a размером 5x2, \n",
    "#то есть состоящий из 5 строк и 2 столбцов. Первый столбец \n",
    "#должен содержать числа 1, 2, 3, 3, 1, а второй - числа 6, 8, 11, 10, 7. \n",
    "#Будем считать, что каждый столбец - это признак, а строка - наблюдение. \n",
    "#Затем найдите среднее значение по каждому признаку, используя метод mean массива Numpy. \n",
    "#Результат запишите в массив mean_a, в нем должно быть 2 элемента.\n",
    "\n",
    "import numpy as np\n",
    "\n",
    "a = np.array([[1, 2, 3, 3, 1],[6, 8, 11, 10, 7]])\n",
    "a = a.transpose()\n",
    "mean_a = np.mean(a, axis = 0)\n",
    "\n",
    "print(f\"Результат №1: {mean_a}\")\n",
    "\n",
    "\n"
   ]
  },
  {
   "cell_type": "code",
   "execution_count": 59,
   "metadata": {},
   "outputs": [
    {
     "name": "stdout",
     "output_type": "stream",
     "text": [
      "Результат №2 в1:\n",
      " [[-1.  -2.4]\n",
      " [ 0.  -0.4]\n",
      " [ 1.   2.6]\n",
      " [ 1.   1.6]\n",
      " [-1.  -1.4]]\n",
      "Результат №2 в2:\n",
      " [[-1.  -2.4]\n",
      " [ 0.  -0.4]\n",
      " [ 1.   2.6]\n",
      " [ 1.   1.6]\n",
      " [-1.  -1.4]]\n"
     ]
    }
   ],
   "source": [
    "#Задание 2\n",
    "#Вычислите массив a_centered, отняв от значений массива “а” средние значения\n",
    "#соответствующих признаков, содержащиеся в массиве mean_a. Вычисление должно \n",
    "#производиться в одно действие. Получившийся массив должен иметь размер 5x2.\n",
    "\n",
    "#вариант1\n",
    "a_centered = a - mean_a\n",
    "print(f\"Результат №2 в1:\\n {a_centered}\")\n",
    "\n",
    "#вариант2\n",
    "a_centered = np.subtract(a, mean_a)\n",
    "print(f\"Результат №2 в2:\\n {a_centered}\")\n"
   ]
  },
  {
   "cell_type": "code",
   "execution_count": 62,
   "metadata": {},
   "outputs": [
    {
     "name": "stdout",
     "output_type": "stream",
     "text": [
      "Результат №3:\n",
      " Несмещенная оценка ковариации: 2.0\n"
     ]
    }
   ],
   "source": [
    "#Задание 3\n",
    "#Найдите скалярное произведение столбцов массива a_centered. \n",
    "#В результате должна получиться величина a_centered_sp. \n",
    "#Затем поделите a_centered_sp на N-1, где N - число наблюдений.\n",
    "\n",
    "a_centered = a_centered.transpose()\n",
    "a_centered_sp = a_centered[0].dot(a_centered[1])\n",
    "n = len(a_centered[0])\n",
    "\n",
    "print(f\"Результат №3:\\n Несмещенная оценка ковариации: {a_centered_sp / (n - 1)}\")\n"
   ]
  },
  {
   "cell_type": "code",
   "execution_count": 56,
   "metadata": {},
   "outputs": [
    {
     "name": "stdout",
     "output_type": "stream",
     "text": [
      "Результат №4:\n",
      " Матрица ковариации: \n",
      " [[1.  2. ]\n",
      " [2.  4.3]] \n",
      " Оценка ковариации: 2.0\n"
     ]
    }
   ],
   "source": [
    "a_cov = np.cov(a.transpose())\n",
    "\n",
    "print(f\"Результат №4:\\n Матрица ковариации: \\n {a_cov} \\n Оценка ковариации: {a_cov[0][1]}\")\n"
   ]
  },
  {
   "cell_type": "code",
   "execution_count": null,
   "metadata": {},
   "outputs": [],
   "source": []
  }
 ],
 "metadata": {
  "kernelspec": {
   "display_name": "Python 3",
   "language": "python",
   "name": "python3"
  },
  "language_info": {
   "codemirror_mode": {
    "name": "ipython",
    "version": 3
   },
   "file_extension": ".py",
   "mimetype": "text/x-python",
   "name": "python",
   "nbconvert_exporter": "python",
   "pygments_lexer": "ipython3",
   "version": "3.7.4"
  }
 },
 "nbformat": 4,
 "nbformat_minor": 2
}
