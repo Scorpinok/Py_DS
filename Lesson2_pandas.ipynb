{
 "cells": [
  {
   "cell_type": "code",
   "execution_count": 64,
   "metadata": {},
   "outputs": [
    {
     "name": "stdout",
     "output_type": "stream",
     "text": [
      "Результат №1:\n",
      " authors:\n",
      "    author_id author_name\n",
      "0          1    Тургенев\n",
      "1          2       Чехов\n",
      "2          3  Островский\n",
      " books:\n",
      "    author_id            book_title  price\n",
      "0          1           Отцы и дети    450\n",
      "1          1                 Рудин    300\n",
      "2          1     Дворянское гнездо    350\n",
      "3          2      Толстый и тонкий    500\n",
      "4          2       Дама с собачкой    450\n",
      "5          3                 Гроза    370\n",
      "6          3  Таланты и поклонники    290\n"
     ]
    }
   ],
   "source": [
    "#Задание 1\n",
    "#Импортируйте библиотеку Pandas и дайте ей псевдоним pd. \n",
    "#Создайте датафрейм authors со столбцами author_id и author_name,\n",
    "#в которых соответственно содержатся данные: [1, 2, 3] и ['Тургенев', 'Чехов', 'Островский'].\n",
    "#Затем создайте датафрейм book cо столбцами author_id, book_title и price, в которых соответственно содержатся данные: \n",
    "#[1, 1, 1, 2, 2, 3, 3], \n",
    "#['Отцы и дети', 'Рудин', 'Дворянское гнездо', 'Толстый и тонкий', 'Дама с собачкой', 'Гроза', 'Таланты и поклонники'],\n",
    "#[450, 300, 350, 500, 450, 370, 290].\n",
    "\n",
    "import pandas as pd\n",
    "\n",
    "to_df = {\"author_id\": [1, 2, 3], \"author_name\": ['Тургенев', 'Чехов', 'Островский']}\n",
    "authors = pd.DataFrame(data = to_df)\n",
    "\n",
    "to_df = {\"author_id\": [1, 1, 1, 2, 2, 3, 3], \"book_title\": ['Отцы и дети', 'Рудин', 'Дворянское гнездо', 'Толстый и тонкий', 'Дама с собачкой', 'Гроза', 'Таланты и поклонники'], \"price\":[450, 300, 350, 500, 450, 370, 290]}\n",
    "books = pd.DataFrame(data = to_df)\n",
    "\n",
    "print(f\"Результат №1:\\n authors:\\n {authors}\\n books:\\n {books}\")\n"
   ]
  },
  {
   "cell_type": "code",
   "execution_count": 65,
   "metadata": {},
   "outputs": [
    {
     "name": "stdout",
     "output_type": "stream",
     "text": [
      "Результат №2:\n",
      " authors_price:\n",
      "    author_id author_name            book_title  price\n",
      "0          1    Тургенев           Отцы и дети    450\n",
      "1          1    Тургенев                 Рудин    300\n",
      "2          1    Тургенев     Дворянское гнездо    350\n",
      "3          2       Чехов      Толстый и тонкий    500\n",
      "4          2       Чехов       Дама с собачкой    450\n",
      "5          3  Островский                 Гроза    370\n",
      "6          3  Островский  Таланты и поклонники    290\n"
     ]
    }
   ],
   "source": [
    "#Задание 2\n",
    "#Получите датафрейм authors_price, соединив датафреймы authors и books по полю author_id.\n",
    "\n",
    "authors_price = pd.merge(authors, books, on='author_id', how='inner')\n",
    "print(f\"Результат №2:\\n authors_price:\\n {authors_price}\")"
   ]
  },
  {
   "cell_type": "code",
   "execution_count": 66,
   "metadata": {},
   "outputs": [
    {
     "name": "stdout",
     "output_type": "stream",
     "text": [
      "Результат №3:\n",
      " top5:\n",
      "    author_id author_name         book_title  price\n",
      "3          2       Чехов   Толстый и тонкий    500\n",
      "0          1    Тургенев        Отцы и дети    450\n",
      "4          2       Чехов    Дама с собачкой    450\n",
      "5          3  Островский              Гроза    370\n",
      "2          1    Тургенев  Дворянское гнездо    350\n"
     ]
    }
   ],
   "source": [
    "#Задание 3\n",
    "#Создайте датафрейм top5, в котором содержатся строки из authors_price с пятью самыми дорогими книгами.\n",
    "\n",
    "n_val = 5\n",
    "top5 = authors_price.nlargest(n_val,\"price\")\n",
    "\n",
    "print(f\"Результат №3:\\n top5:\\n {top5}\")"
   ]
  },
  {
   "cell_type": "code",
   "execution_count": 67,
   "metadata": {},
   "outputs": [
    {
     "name": "stdout",
     "output_type": "stream",
     "text": [
      "Результат №4:\n",
      " authors_stat:\n",
      "              min_price  max_price  mean_price\n",
      "author_name                                  \n",
      "Островский         290        370       330.0\n",
      "Тургенев           300        450       367.0\n",
      "Чехов              450        500       475.0\n"
     ]
    }
   ],
   "source": [
    "#Задание 4\n",
    "#Создайте датафрейм authors_stat на основе информации из authors_price. В датафрейме authors_stat должны быть четыре столбца:\n",
    "#author_name, min_price, max_price и mean_price,\n",
    "#в которых должны содержаться соответственно имя автора,минимальная, максимальная и средняя цена на книги этого автора.\n",
    "\n",
    "authors_stat = authors_price.groupby(\"author_name\")\n",
    "authors_stat = pd.concat([authors_stat[\"price\"].min(),authors_stat[\"price\"].max(), round(authors_stat[\"price\"].mean())], axis=1, keys=['min_price','max_price', 'mean_price'])\n",
    "\n",
    "print(f\"Результат №4:\\n authors_stat:\\n {authors_stat}\")\n"
   ]
  },
  {
   "cell_type": "code",
   "execution_count": 75,
   "metadata": {},
   "outputs": [
    {
     "name": "stdout",
     "output_type": "stream",
     "text": [
      "Результат №5: \n",
      " authors_price:\n",
      "    author_id author_name            book_title  price    Cover\n",
      "0          1    Тургенев           Отцы и дети    450  твердая\n",
      "1          1    Тургенев                 Рудин    300   мягкая\n",
      "2          1    Тургенев     Дворянское гнездо    350   мягкая\n",
      "3          2       Чехов      Толстый и тонкий    500  твердая\n",
      "4          2       Чехов       Дама с собачкой    450  твердая\n",
      "5          3  Островский                 Гроза    370   мягкая\n",
      "6          3  Островский  Таланты и поклонники    290   мягкая\n",
      "\n",
      " book_info:\n",
      " Cover        мягкая  твердая\n",
      "author_name                 \n",
      "Островский      660        0\n",
      "Тургенев        650      450\n",
      "Чехов             0      950\n",
      "\n",
      " read from pickle - book_info2:\n",
      " Cover        мягкая  твердая\n",
      "author_name                 \n",
      "Островский      660        0\n",
      "Тургенев        650      450\n",
      "Чехов             0      950\n"
     ]
    }
   ],
   "source": [
    "#Задание 5**\n",
    "#Создайте новый столбец в датафрейме authors_price под названием cover, \n",
    "#в нем будут располагаться данные о том, какая обложка у данной книги - твердая или мягкая. \n",
    "#В этот столбец поместите данные из следующего списка:\n",
    "#['твердая', 'мягкая', 'мягкая', 'твердая', 'твердая', 'мягкая', 'мягкая'].\n",
    "#Просмотрите документацию по функции pd.pivot_table с помощью вопросительного знака.\n",
    "#Для каждого автора посчитайте суммарную стоимость книг в твердой и мягкой обложке. \n",
    "#Используйте для этого функцию pd.pivot_table. При этом столбцы должны называться \"твердая\" и \"мягкая\", \n",
    "#а индексами должны быть фамилии авторов. Пропущенные значения стоимостей заполните нулями, \n",
    "#при необходимости загрузите библиотеку Numpy.\n",
    "#Назовите полученный датасет book_info и сохраните его в формат pickle под названием\n",
    "#\"book_info.pkl\". Затем загрузите из этого файла датафрейм и назовите его book_info2. \n",
    "#Удостоверьтесь, что датафреймы book_info и book_info2 идентичны.\n",
    "\n",
    "import numpy as np\n",
    "\n",
    "cover = ['твердая', 'мягкая', 'мягкая', 'твердая', 'твердая', 'мягкая', 'мягкая']\n",
    "authors_price['Cover'] = cover\n",
    "print(f\"Результат №5: \\n authors_price:\\n {authors_price}\")\n",
    "\n",
    "book_info = pd.pivot_table(authors_price, values='price', index=['author_name'], columns=['Cover'], aggfunc=np.sum, fill_value=0)\n",
    "print(f\"\\n book_info:\\n {book_info}\")\n",
    "\n",
    "book_info.to_pickle(\"book_info.pkl\")\n",
    "book_info2 = pd.read_pickle(\"book_info.pkl\")\n",
    "print(f\"\\n read from pickle - book_info2:\\n {book_info2}\")"
   ]
  },
  {
   "cell_type": "code",
   "execution_count": null,
   "metadata": {},
   "outputs": [],
   "source": []
  }
 ],
 "metadata": {
  "kernelspec": {
   "display_name": "Python 3",
   "language": "python",
   "name": "python3"
  },
  "language_info": {
   "codemirror_mode": {
    "name": "ipython",
    "version": 3
   },
   "file_extension": ".py",
   "mimetype": "text/x-python",
   "name": "python",
   "nbconvert_exporter": "python",
   "pygments_lexer": "ipython3",
   "version": "3.7.4"
  }
 },
 "nbformat": 4,
 "nbformat_minor": 2
}
